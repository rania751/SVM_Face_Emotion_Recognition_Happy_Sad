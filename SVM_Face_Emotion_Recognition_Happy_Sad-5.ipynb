{
  "cells": [
    {
      "cell_type": "code",
      "execution_count": 1,
      "metadata": {
        "id": "ehR0MhW-VN7b"
      },
      "outputs": [],
      "source": [
        "import tensorflow as tf\n",
        "import keras\n",
        "import cv2\n",
        "import numpy as np\n",
        "import itertools\n",
        "import os\n",
        "import seaborn as sns\n",
        "from sklearn import preprocessing\n",
        "import matplotlib.pyplot as plt"
      ]
    },
    {
      "cell_type": "code",
      "execution_count": 2,
      "metadata": {
        "id": "LBFr6MzWVeKb"
      },
      "outputs": [],
      "source": [
        "from google.colab import drive\n"
      ]
    },
    {
      "cell_type": "code",
      "execution_count": 3,
      "metadata": {
        "id": "YrjQqpn_JvJ4",
        "colab": {
          "base_uri": "https://localhost:8080/"
        },
        "outputId": "235ad9bb-c0eb-4631-b3ae-15bfa590411d"
      },
      "outputs": [
        {
          "output_type": "stream",
          "name": "stdout",
          "text": [
            "Mounted at /content/drive\n"
          ]
        }
      ],
      "source": [
        "drive.mount('/content/drive')"
      ]
    },
    {
      "cell_type": "code",
      "execution_count": 4,
      "metadata": {
        "id": "eoiPR0ApWrxL"
      },
      "outputs": [],
      "source": [
        "dir=('/content/drive/MyDrive/dataset/train1/')"
      ]
    },
    {
      "cell_type": "code",
      "execution_count": 5,
      "metadata": {
        "id": "Qx3_ZIEqW1IH"
      },
      "outputs": [],
      "source": [
        "classes=[\"happy1\",\"sad1\"]"
      ]
    },
    {
      "cell_type": "markdown",
      "metadata": {
        "id": "3thvu7cZW7_h"
      },
      "source": [
        "read all the img and convertin them to array"
      ]
    },
    {
      "cell_type": "code",
      "execution_count": 6,
      "metadata": {
        "id": "3Qe_JWxIW120"
      },
      "outputs": [],
      "source": [
        "training_data=[]\n",
        "img_size=224 \n",
        "def create_training_data():\n",
        "  for category in classes:\n",
        "    path=os.path.join(dir,category)\n",
        "    class_num=classes.index(category)\n",
        "    for img in os.listdir(path):\n",
        "      try:\n",
        "        img_array=cv2.imread(os.path.join(path,img))\n",
        "        new_array=cv2.resize(img_array,(img_size,img_size))\n",
        "        training_data.append([new_array, class_num])\n",
        "      except Exception as e:\n",
        "        pass \n"
      ]
    },
    {
      "cell_type": "code",
      "execution_count": 7,
      "metadata": {
        "id": "g-dEykH1XDkA"
      },
      "outputs": [],
      "source": [
        "create_training_data()"
      ]
    },
    {
      "cell_type": "code",
      "execution_count": 8,
      "metadata": {
        "id": "Xi6gTtHnXEGI",
        "colab": {
          "base_uri": "https://localhost:8080/"
        },
        "outputId": "b72c2dbc-7234-4e92-ae51-6c346f820beb"
      },
      "outputs": [
        {
          "output_type": "stream",
          "name": "stdout",
          "text": [
            "3348\n"
          ]
        }
      ],
      "source": [
        "print(len(training_data))"
      ]
    },
    {
      "cell_type": "code",
      "execution_count": 9,
      "metadata": {
        "id": "SPst1sQuXGaN",
        "colab": {
          "base_uri": "https://localhost:8080/"
        },
        "outputId": "23c67ceb-6c13-40da-a635-7ba77b2bbea2"
      },
      "outputs": [
        {
          "output_type": "stream",
          "name": "stderr",
          "text": [
            "<ipython-input-9-357a9f251f7e>:1: VisibleDeprecationWarning: Creating an ndarray from ragged nested sequences (which is a list-or-tuple of lists-or-tuples-or ndarrays with different lengths or shapes) is deprecated. If you meant to do this, you must specify 'dtype=object' when creating the ndarray.\n",
            "  temp=np.array(training_data)\n"
          ]
        }
      ],
      "source": [
        "temp=np.array(training_data)"
      ]
    },
    {
      "cell_type": "code",
      "execution_count": 10,
      "metadata": {
        "id": "zSjqhMYXXJGV",
        "colab": {
          "base_uri": "https://localhost:8080/"
        },
        "outputId": "6ed438b1-86af-4716-a99f-d48d1ce8b47d"
      },
      "outputs": [
        {
          "output_type": "execute_result",
          "data": {
            "text/plain": [
              "(3348, 2)"
            ]
          },
          "metadata": {},
          "execution_count": 10
        }
      ],
      "source": [
        "temp.shape"
      ]
    },
    {
      "cell_type": "code",
      "execution_count": 11,
      "metadata": {
        "id": "ZfdU8KgLXOUx"
      },
      "outputs": [],
      "source": [
        "import random\n",
        "random.shuffle(training_data)"
      ]
    },
    {
      "cell_type": "code",
      "execution_count": 12,
      "metadata": {
        "id": "VBx4X_ksXQue"
      },
      "outputs": [],
      "source": [
        "x=[] #feature/data\n",
        "y=[] #label\n",
        "\n",
        "for features,label in training_data:\n",
        "  \n",
        "  x.append(features)\n",
        "  y.append(label)\n",
        "\n",
        "x=np.array(x)\n",
        "y=np.array(y)"
      ]
    },
    {
      "cell_type": "code",
      "execution_count": 13,
      "metadata": {
        "id": "F-N5xIt_XRat",
        "colab": {
          "base_uri": "https://localhost:8080/"
        },
        "outputId": "813c597a-2e4f-4bae-8be4-fc5e14a860fc"
      },
      "outputs": [
        {
          "output_type": "execute_result",
          "data": {
            "text/plain": [
              "(3348, 224, 224, 3)"
            ]
          },
          "metadata": {},
          "execution_count": 13
        }
      ],
      "source": [
        "x.shape"
      ]
    },
    {
      "cell_type": "code",
      "execution_count": 14,
      "metadata": {
        "id": "BPNWcpqYXTbk"
      },
      "outputs": [],
      "source": [
        "x=x/255.0"
      ]
    },
    {
      "cell_type": "code",
      "execution_count": 16,
      "metadata": {
        "id": "4nQvVZ6GLAh2"
      },
      "outputs": [],
      "source": [
        "X=x.reshape(3348,3*224*224)"
      ]
    },
    {
      "cell_type": "code",
      "execution_count": 17,
      "metadata": {
        "id": "QV_FXbAvLKOz",
        "colab": {
          "base_uri": "https://localhost:8080/"
        },
        "outputId": "5a5fcc32-b814-4876-aaa1-fb82d97ef3c7"
      },
      "outputs": [
        {
          "output_type": "execute_result",
          "data": {
            "text/plain": [
              "(3348, 150528)"
            ]
          },
          "metadata": {},
          "execution_count": 17
        }
      ],
      "source": [
        "X.shape"
      ]
    },
    {
      "cell_type": "code",
      "execution_count": 18,
      "metadata": {
        "id": "TLg8epSxXbDH",
        "colab": {
          "base_uri": "https://localhost:8080/"
        },
        "outputId": "8ed22b62-c1bc-48dc-83bd-eb74e1fd6c0c"
      },
      "outputs": [
        {
          "output_type": "execute_result",
          "data": {
            "text/plain": [
              "(3348,)"
            ]
          },
          "metadata": {},
          "execution_count": 18
        }
      ],
      "source": [
        "y.shape"
      ]
    },
    {
      "cell_type": "code",
      "execution_count": 19,
      "metadata": {
        "id": "fBko6evwVtde"
      },
      "outputs": [],
      "source": [
        "from sklearn.svm import SVC"
      ]
    },
    {
      "cell_type": "code",
      "execution_count": 20,
      "metadata": {
        "id": "2NneDwPJV_ak"
      },
      "outputs": [],
      "source": [
        "svc_model = SVC()"
      ]
    },
    {
      "cell_type": "code",
      "execution_count": 21,
      "metadata": {
        "id": "2abUwCR6WFEe",
        "colab": {
          "base_uri": "https://localhost:8080/"
        },
        "outputId": "97384b5e-53c7-46e2-f957-5db5145c5598"
      },
      "outputs": [
        {
          "output_type": "execute_result",
          "data": {
            "text/plain": [
              "SVC()"
            ]
          },
          "metadata": {},
          "execution_count": 21
        }
      ],
      "source": [
        "svc_model.fit(X,y)"
      ]
    },
    {
      "cell_type": "code",
      "execution_count": 22,
      "metadata": {
        "id": "S4NuaruiqkDA"
      },
      "outputs": [],
      "source": [
        "dir1=('/content/drive/MyDrive/dataset/train')"
      ]
    },
    {
      "cell_type": "code",
      "execution_count": 23,
      "metadata": {
        "id": "rJQ4Ur-T97P5"
      },
      "outputs": [],
      "source": [
        "classes1=[\"H1\",\"S1\"]"
      ]
    },
    {
      "cell_type": "code",
      "execution_count": 24,
      "metadata": {
        "id": "i6becrzXqHCS"
      },
      "outputs": [],
      "source": [
        "test_data=[]\n",
        "img_size=224 \n",
        "def create_test_data():\n",
        "  for category in classes1:\n",
        "    path=os.path.join(dir1,category)\n",
        "    class_num=classes1.index(category)\n",
        "    for img in os.listdir(path):\n",
        "      try:\n",
        "        img_array=cv2.imread(os.path.join(path,img))\n",
        "        new_array=cv2.resize(img_array,(img_size,img_size))\n",
        "        test_data.append([new_array, class_num])\n",
        "      except Exception as e:\n",
        "        pass "
      ]
    },
    {
      "cell_type": "code",
      "execution_count": 25,
      "metadata": {
        "id": "7R0HB4Ofq3r8"
      },
      "outputs": [],
      "source": [
        "create_test_data()"
      ]
    },
    {
      "cell_type": "code",
      "execution_count": 26,
      "metadata": {
        "id": "cJ4eaiKcrGDJ",
        "colab": {
          "base_uri": "https://localhost:8080/"
        },
        "outputId": "373f151d-2b04-442e-e553-a4a9c9376b0b"
      },
      "outputs": [
        {
          "output_type": "stream",
          "name": "stderr",
          "text": [
            "<ipython-input-26-3bdf79796c9f>:1: VisibleDeprecationWarning: Creating an ndarray from ragged nested sequences (which is a list-or-tuple of lists-or-tuples-or ndarrays with different lengths or shapes) is deprecated. If you meant to do this, you must specify 'dtype=object' when creating the ndarray.\n",
            "  temp1=np.array(test_data)\n"
          ]
        }
      ],
      "source": [
        "temp1=np.array(test_data)"
      ]
    },
    {
      "cell_type": "code",
      "execution_count": 27,
      "metadata": {
        "id": "V4FMEtQ6rQvV",
        "colab": {
          "base_uri": "https://localhost:8080/"
        },
        "outputId": "56c0c0d5-9a06-4076-c5cb-fdbdd219d1e7"
      },
      "outputs": [
        {
          "output_type": "execute_result",
          "data": {
            "text/plain": [
              "(384, 2)"
            ]
          },
          "metadata": {},
          "execution_count": 27
        }
      ],
      "source": [
        "temp1.shape"
      ]
    },
    {
      "cell_type": "code",
      "execution_count": 28,
      "metadata": {
        "id": "VJF-ibKUrbwB"
      },
      "outputs": [],
      "source": [
        "import random\n",
        "random.shuffle(test_data)"
      ]
    },
    {
      "cell_type": "code",
      "execution_count": 29,
      "metadata": {
        "id": "amK_BNPjr6ov"
      },
      "outputs": [],
      "source": [
        "x1=[] #feature/data\n",
        "y1=[] #label\n",
        "\n",
        "for features,label in test_data:\n",
        "  \n",
        "  x1.append(features)\n",
        "  y1.append(label)\n",
        "\n",
        "x1=np.array(x1)\n",
        "y1=np.array(y1)"
      ]
    },
    {
      "cell_type": "code",
      "execution_count": 30,
      "metadata": {
        "id": "yJdcfzEJs55e",
        "colab": {
          "base_uri": "https://localhost:8080/"
        },
        "outputId": "81c7de69-6d63-4fd8-8512-dfa51dc7ccfc"
      },
      "outputs": [
        {
          "output_type": "execute_result",
          "data": {
            "text/plain": [
              "(384, 224, 224, 3)"
            ]
          },
          "metadata": {},
          "execution_count": 30
        }
      ],
      "source": [
        "x1.shape"
      ]
    },
    {
      "cell_type": "code",
      "execution_count": 31,
      "metadata": {
        "id": "BfKzrgsor8BJ"
      },
      "outputs": [],
      "source": [
        "a=x1.reshape(384,224*224*3)"
      ]
    },
    {
      "cell_type": "code",
      "execution_count": 32,
      "metadata": {
        "id": "-Cbw0SXwVnOv"
      },
      "outputs": [],
      "source": [
        "a=a/255.0"
      ]
    },
    {
      "cell_type": "code",
      "execution_count": 33,
      "metadata": {
        "id": "0nrpeZ_PVs6j",
        "colab": {
          "base_uri": "https://localhost:8080/"
        },
        "outputId": "4399d1a6-e948-40dd-b475-933c57807697"
      },
      "outputs": [
        {
          "output_type": "execute_result",
          "data": {
            "text/plain": [
              "array([[0.07058824, 0.07058824, 0.07058824, ..., 0.98039216, 0.98039216,\n",
              "        0.98039216],\n",
              "       [0.69019608, 0.69019608, 0.69019608, ..., 0.01960784, 0.01960784,\n",
              "        0.01960784],\n",
              "       [0.94117647, 0.94117647, 0.94117647, ..., 0.56862745, 0.56862745,\n",
              "        0.56862745],\n",
              "       ...,\n",
              "       [0.19215686, 0.19215686, 0.19215686, ..., 0.24313725, 0.24313725,\n",
              "        0.24313725],\n",
              "       [0.76862745, 0.76862745, 0.76862745, ..., 0.        , 0.        ,\n",
              "        0.        ],\n",
              "       [0.01960784, 0.01960784, 0.01960784, ..., 0.21960784, 0.21960784,\n",
              "        0.21960784]])"
            ]
          },
          "metadata": {},
          "execution_count": 33
        }
      ],
      "source": [
        "a"
      ]
    },
    {
      "cell_type": "code",
      "execution_count": 34,
      "metadata": {
        "id": "UIDXaqPethRI"
      },
      "outputs": [],
      "source": [
        "predictions = svc_model.predict(a)"
      ]
    },
    {
      "cell_type": "code",
      "execution_count": 38,
      "metadata": {
        "id": "xjOrnIxr5kBS",
        "colab": {
          "base_uri": "https://localhost:8080/"
        },
        "outputId": "139e500a-1c88-4372-839b-1266c1897105"
      },
      "outputs": [
        {
          "output_type": "execute_result",
          "data": {
            "text/plain": [
              "array([1, 0, 1, 1, 1, 1, 1, 0, 0, 0, 0, 0, 1, 0, 1, 1, 1, 0, 1, 0, 1, 0,\n",
              "       0, 0, 1, 1, 1, 1, 1, 0, 0, 1, 0, 0, 0, 1, 0, 0, 1, 1, 1, 0, 1, 1,\n",
              "       0, 1, 1, 1, 0, 0, 0, 1, 0, 1, 1, 1, 1, 1, 0, 0, 0, 0, 0, 0, 0, 0,\n",
              "       0, 1, 0, 0, 1, 0, 0, 1, 1, 1, 1, 0, 0, 0, 0, 1, 0, 0, 0, 1, 1, 1,\n",
              "       0, 1, 0, 1, 0, 0, 1, 0, 1, 1, 0, 0, 1, 0, 0, 0, 1, 1, 1, 0, 0, 1,\n",
              "       1, 1, 0, 0, 1, 0, 0, 1, 0, 1, 0, 1, 0, 1, 1, 0, 0, 1, 1, 1, 1, 0,\n",
              "       0, 0, 0, 0, 1, 1, 0, 0, 1, 1, 0, 0, 0, 0, 1, 0, 1, 0, 0, 1, 1, 1,\n",
              "       1, 1, 1, 0, 1, 0, 0, 1, 0, 1, 1, 1, 1, 0, 1, 0, 1, 1, 0, 1, 0, 1,\n",
              "       0, 1, 1, 1, 1, 1, 1, 0, 1, 1, 1, 1, 1, 0, 1, 1, 0, 0, 0, 1, 0, 0,\n",
              "       0, 1, 0, 0, 0, 0, 0, 1, 1, 1, 1, 0, 1, 0, 1, 0, 1, 1, 0, 1, 0, 1,\n",
              "       0, 1, 0, 0, 0, 0, 1, 1, 1, 0, 0, 0, 1, 0, 0, 1, 0, 0, 0, 0, 0, 0,\n",
              "       0, 0, 1, 1, 1, 0, 0, 1, 0, 0, 0, 0, 0, 1, 1, 1, 0, 1, 0, 1, 1, 1,\n",
              "       1, 0, 0, 1, 1, 0, 0, 1, 0, 1, 1, 0, 0, 1, 0, 0, 0, 0, 1, 1, 0, 0,\n",
              "       0, 0, 0, 0, 0, 0, 1, 0, 1, 0, 0, 0, 0, 0, 1, 0, 1, 1, 1, 1, 0, 0,\n",
              "       0, 0, 1, 1, 0, 1, 0, 0, 0, 1, 0, 1, 0, 0, 0, 0, 0, 0, 0, 0, 1, 0,\n",
              "       0, 0, 1, 0, 1, 1, 0, 0, 0, 1, 0, 1, 0, 1, 0, 1, 1, 1, 1, 1, 0, 1,\n",
              "       0, 0, 0, 0, 1, 0, 1, 1, 1, 0, 0, 0, 1, 0, 0, 0, 0, 0, 1, 0, 0, 0,\n",
              "       1, 0, 1, 1, 0, 1, 1, 0, 0, 1])"
            ]
          },
          "metadata": {},
          "execution_count": 38
        }
      ],
      "source": [
        "predictions"
      ]
    },
    {
      "cell_type": "code",
      "execution_count": 35,
      "metadata": {
        "id": "NMNf3E37t8kY"
      },
      "outputs": [],
      "source": [
        "from sklearn.metrics import classification_report,confusion_matrix"
      ]
    },
    {
      "cell_type": "code",
      "execution_count": 36,
      "metadata": {
        "id": "zk_xCGXQt9K-",
        "colab": {
          "base_uri": "https://localhost:8080/"
        },
        "outputId": "2acba1fc-b370-4f5d-f20b-90a6757bb32e"
      },
      "outputs": [
        {
          "output_type": "stream",
          "name": "stdout",
          "text": [
            "[[188  52]\n",
            " [ 20 124]]\n"
          ]
        }
      ],
      "source": [
        "print(confusion_matrix(y1,predictions))"
      ]
    },
    {
      "cell_type": "code",
      "execution_count": 37,
      "metadata": {
        "id": "oyCFo3gZuBpY",
        "colab": {
          "base_uri": "https://localhost:8080/"
        },
        "outputId": "2cbe8a38-8982-4b00-eecf-bf09951c5bf4"
      },
      "outputs": [
        {
          "output_type": "stream",
          "name": "stdout",
          "text": [
            "              precision    recall  f1-score   support\n",
            "\n",
            "           0       0.90      0.78      0.84       240\n",
            "           1       0.70      0.86      0.78       144\n",
            "\n",
            "    accuracy                           0.81       384\n",
            "   macro avg       0.80      0.82      0.81       384\n",
            "weighted avg       0.83      0.81      0.82       384\n",
            "\n"
          ]
        }
      ],
      "source": [
        "print(classification_report(y1,predictions))"
      ]
    }
  ],
  "metadata": {
    "colab": {
      "provenance": []
    },
    "gpuClass": "standard",
    "kernelspec": {
      "display_name": "Python 3",
      "name": "python3"
    },
    "language_info": {
      "name": "python"
    }
  },
  "nbformat": 4,
  "nbformat_minor": 0
}